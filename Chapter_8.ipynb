{
 "cells": [
  {
   "cell_type": "markdown",
   "id": "bbfe4515-ea92-4c60-8ccb-5f0155c9db66",
   "metadata": {},
   "source": [
    "## 8. When Models Meet Data"
   ]
  },
  {
   "cell_type": "markdown",
   "id": "6f4893b9-ff6b-46e2-b6ed-62a3b853bcff",
   "metadata": {},
   "source": [
    "#### 8.1.1 Data as Vectors\n",
    "\n",
    "The data represent on table with N as number of examples (row) and D (dimension) as number of features (columns)\n",
    "\n",
    "We can manipulate the data find potentially better representations by two ways:\n",
    "1. finding lower-dimensional approximations of the original feature vector -> Principal Component Analysis (PCA), closely related to concepts of __eigenvalue__ and **singular value decomposition**\n",
    "2. using nonlinear higher-dimensional combinations of the original feature vector -> explicit feature map(?), the main motivation for higher-dimensional representations is that we can construct new features which may take the learning problem easier(?)"
   ]
  },
  {
   "cell_type": "markdown",
   "id": "138b18f7-a9dd-4465-8ee0-f28ef329f7bd",
   "metadata": {},
   "source": [
    "##### (Math Check) Eigenvalue\n",
    "\n",
    "##### (Math Check) 2.7.1 Matrix Representation of Linear Mapping\n",
    "vectors are objects that can be added together and multiplied by a scalar, and the resulting object is still a vector\n",
    "notation:\n",
    "1. B = (b1,...,bn) -> ordered basis\n",
    "2. B = {b1,...,bn} -> unordered basis\n",
    "3. B = [b1,...,bn] -> matrix whose columns are vectors"
   ]
  },
  {
   "cell_type": "markdown",
   "id": "254d9bf9-e6e5-468f-953f-bbc35947f50d",
   "metadata": {},
   "source": [
    "definition 2.18 (coordinates) -> this definitions is changing the existing vector on standard basis (e1, e2) to basis vector (I think this customizeable(?)) \n",
    "\n",
    "Example of coordinates changes on vector using basis vector (b1, b2) -> b1 = [1, -1]^T, b2 = [1, 1]^T\n",
    "\n",
    "we have vector \\\n",
    "x = 2*e1 + 3*e2 \n",
    "\n",
    "standard basis \\\n",
    "e1 = [1, 0]^T \\\n",
    "e2 = [0, 2]^T\n",
    "\n",
    "vector x can be written as: \\\n",
    "x = 2 * [1, 0]^T + 3 * [0, 1]^T = [2, 3]^T\n",
    "\n",
    "instead of using standard basis, we want to **represent the same vector** x using a different basis (b1, b2) \\\n",
    "b1 = [1, -1]^T \\\n",
    "b2 = [1, 1]^T \n",
    "\n",
    "x as linear combination of b1 and b2 \\\n",
    "x = c1*b1 + c2*b2\n",
    "\n",
    "finding new coordinate c1, c2 \\\n",
    "x = c1*[1, -1]^T + c2*[1, 1]^T \\\n",
    "x = [[1, 1], [-1, 1]] * [c1, c2]^T = [2, 3]^T \\\n",
    "[c1, c2]^T = [[1, 1], [-1, 1]]^-1 * [2, 3]^T\n",
    "\n",
    "[[1, 1], [-1, 1]]^-1: \\\n",
    "determinant = (1*1) - ((-1)*1) = 1 + 1 = 2\n",
    "\n",
    "[[1, 1], [-1, 1]]^-1 = 0.5 * ( [[1, -1], [1, 1]] ) \n",
    "\n",
    "[c1, c2]^T = ( 0.5 * ( [[1, -1], [1, 1]] ) ) * [2, 3]^T\n",
    "\n",
    "[c1, c2]^T = [-0.5, 2.5]^T"
   ]
  },
  {
   "cell_type": "code",
   "execution_count": 63,
   "id": "7462581d-9c63-40dc-a4fe-6f4e2a8c3930",
   "metadata": {},
   "outputs": [],
   "source": [
    "## Manual code\n",
    "\n",
    "# original vector x\n",
    "x = [[2], [3]]\n",
    "\n",
    "# basis b1, b2\n",
    "B = [\n",
    "    [1, 1],\n",
    "    [-1, 1]\n",
    "]\n",
    "\n",
    "def determinant_2x2(matrix):\n",
    "    return (matrix[0][0] * matrix[1][1]) - (matrix[0][1] * matrix[1][0]) \n",
    "\n",
    "def inverse_2x2(matrix):\n",
    "    det = determinant_2x2(matrix)\n",
    "\n",
    "    if det == 0:\n",
    "        raise ValueError(\"Matrix is singular, cannto find inverse.\")\n",
    "\n",
    "    inv_det = 1 / det\n",
    "    inverse = [\n",
    "        [matrix[1][1] * inv_det, -1 * matrix[0][1] * inv_det],\n",
    "        [-1 * matrix[1][0] * inv_det, matrix [0][0] * inv_det]\n",
    "    ]\n",
    "\n",
    "    return inverse\n",
    "\n",
    "B_inv= inverse_2x2(B)\n",
    "\n",
    "def matrix_mult(B_inv, x):\n",
    "    ## multiply two matrices A (m x n) and B (n x p)\n",
    "    m = len(B_inv)\n",
    "    n = len(B_inv[0])\n",
    "    p = len(x[0]) \n",
    "\n",
    "    result = [[0] for _ in range(len(x))]\n",
    "\n",
    "    for i from range(m):\n",
    "        for j from range(p):\n",
    "            for k from range(n)\n"
   ]
  },
  {
   "cell_type": "code",
   "execution_count": 121,
   "id": "8116e125-1306-42ae-9467-b7eff1d865eb",
   "metadata": {},
   "outputs": [
    {
     "data": {
      "text/plain": [
       "0.5"
      ]
     },
     "execution_count": 121,
     "metadata": {},
     "output_type": "execute_result"
    }
   ],
   "source": [
    "B_inv[0][0]"
   ]
  },
  {
   "cell_type": "code",
   "execution_count": 123,
   "id": "e34018d7-fee9-4cb4-a658-c1cfd122d8b3",
   "metadata": {},
   "outputs": [
    {
     "data": {
      "text/plain": [
       "-0.5"
      ]
     },
     "execution_count": 123,
     "metadata": {},
     "output_type": "execute_result"
    }
   ],
   "source": [
    "B_inv[0][1]"
   ]
  },
  {
   "cell_type": "code",
   "execution_count": 125,
   "id": "11e33b8c-ee02-4876-913d-9675b912347d",
   "metadata": {},
   "outputs": [
    {
     "data": {
      "text/plain": [
       "[[0.5, -0.5], [0.5, 0.5]]"
      ]
     },
     "execution_count": 125,
     "metadata": {},
     "output_type": "execute_result"
    }
   ],
   "source": [
    "B_inv"
   ]
  },
  {
   "cell_type": "code",
   "execution_count": null,
   "id": "f9cf3f1e-6afd-4a9f-a1a8-b12ad99a4e87",
   "metadata": {},
   "outputs": [],
   "source": []
  }
 ],
 "metadata": {
  "kernelspec": {
   "display_name": "Python [conda env:base] *",
   "language": "python",
   "name": "conda-base-py"
  },
  "language_info": {
   "codemirror_mode": {
    "name": "ipython",
    "version": 3
   },
   "file_extension": ".py",
   "mimetype": "text/x-python",
   "name": "python",
   "nbconvert_exporter": "python",
   "pygments_lexer": "ipython3",
   "version": "3.12.7"
  }
 },
 "nbformat": 4,
 "nbformat_minor": 5
}
